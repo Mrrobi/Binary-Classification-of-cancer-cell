{
  "nbformat": 4,
  "nbformat_minor": 0,
  "metadata": {
    "colab": {
      "name": "tang.ipynb",
      "provenance": [],
      "include_colab_link": true
    },
    "kernelspec": {
      "name": "python3",
      "display_name": "Python 3"
    },
    "accelerator": "GPU"
  },
  "cells": [
    {
      "cell_type": "markdown",
      "metadata": {
        "id": "view-in-github",
        "colab_type": "text"
      },
      "source": [
        "<a href=\"https://colab.research.google.com/github/Mrrobi/Capstone-Project/blob/main/tang.ipynb\" target=\"_parent\"><img src=\"https://colab.research.google.com/assets/colab-badge.svg\" alt=\"Open In Colab\"/></a>"
      ]
    },
    {
      "cell_type": "code",
      "metadata": {
        "id": "N6dD3Z0fFEsB",
        "colab": {
          "base_uri": "https://localhost:8080/"
        },
        "outputId": "d1708922-a342-4fde-9914-f99f52052554"
      },
      "source": [
        "from google.colab import drive\n",
        "drive.mount('/content/drive')"
      ],
      "execution_count": null,
      "outputs": [
        {
          "output_type": "stream",
          "text": [
            "Mounted at /content/drive\n"
          ],
          "name": "stdout"
        }
      ]
    },
    {
      "cell_type": "code",
      "metadata": {
        "id": "uAPlU2_rFOTg"
      },
      "source": [
        "import io\n",
        "import numpy as np\n",
        "import pandas as pd\n",
        "import pylab as pl\n",
        "from scipy import interp\n",
        "from sklearn import tree\n",
        "from sklearn.svm import SVC\n",
        "from sklearn.tree import DecisionTreeClassifier\n",
        "from sklearn.ensemble import RandomForestClassifier\n",
        "from sklearn.ensemble import AdaBoostClassifier\n",
        "from sklearn.naive_bayes import GaussianNB\n",
        "from sklearn.decomposition import PCA\n",
        "from sklearn.manifold import TSNE\n",
        "from sklearn.model_selection import train_test_split\n",
        "from sklearn.model_selection import StratifiedKFold\n",
        "from sklearn.metrics import accuracy_score\n",
        "from sklearn.metrics import recall_score\n",
        "from sklearn.metrics import roc_auc_score\n",
        "from sklearn.metrics import balanced_accuracy_score\n",
        "from sklearn.metrics import precision_score\n",
        "from sklearn.metrics import confusion_matrix\n",
        "from sklearn.metrics import ConfusionMatrixDisplay\n",
        "from sklearn.metrics import roc_curve, auc\n",
        "import matplotlib.pyplot as plt\n",
        "from matplotlib.pyplot import figure"
      ],
      "execution_count": null,
      "outputs": []
    },
    {
      "cell_type": "code",
      "metadata": {
        "id": "rabnZfBXFYMS"
      },
      "source": [
        "s = pd.read_csv(\"/content/drive/My Drive/capstone/Dataset/Taz/count.txt\", delimiter='\\t')"
      ],
      "execution_count": null,
      "outputs": []
    },
    {
      "cell_type": "code",
      "metadata": {
        "id": "nrWwlPZmwarc",
        "colab": {
          "base_uri": "https://localhost:8080/"
        },
        "outputId": "f19e987d-d466-4ab4-c8ca-0de099ca6078"
      },
      "source": [
        "print(s)"
      ],
      "execution_count": null,
      "outputs": [
        {
          "output_type": "stream",
          "text": [
            "                     gene  ...  Runx123_GFP.P1.D12\n",
            "0      ENSDARG00000104632  ...                   0\n",
            "1      ENSDARG00000100660  ...                   0\n",
            "2      ENSDARG00000100422  ...                   0\n",
            "3      ENSDARG00000102128  ...                   0\n",
            "4      ENSDARG00000103095  ...                 209\n",
            "...                   ...  ...                 ...\n",
            "21871  ENSDARG00000101185  ...                   0\n",
            "21872  ENSDARG00000102248  ...                   0\n",
            "21873  ENSDARG00000102790  ...                   0\n",
            "21874  ENSDARG00000100589  ...                   0\n",
            "21875  ENSDARG00000099551  ...                   0\n",
            "\n",
            "[21876 rows x 247 columns]\n"
          ],
          "name": "stdout"
        }
      ]
    },
    {
      "cell_type": "code",
      "metadata": {
        "id": "KbozedIYLuUC",
        "colab": {
          "base_uri": "https://localhost:8080/",
          "height": 35
        },
        "outputId": "06ffe8e1-1f27-4700-c13b-f369557d4558"
      },
      "source": [
        "z=s.columns.tolist()\n",
        "z.pop(0)\n"
      ],
      "execution_count": null,
      "outputs": [
        {
          "output_type": "execute_result",
          "data": {
            "application/vnd.google.colaboratory.intrinsic+json": {
              "type": "string"
            },
            "text/plain": [
              "'gene'"
            ]
          },
          "metadata": {
            "tags": []
          },
          "execution_count": 5
        }
      ]
    },
    {
      "cell_type": "code",
      "metadata": {
        "id": "nEPhqYWPS5T7"
      },
      "source": [
        "df=s.T"
      ],
      "execution_count": null,
      "outputs": []
    },
    {
      "cell_type": "code",
      "metadata": {
        "id": "MyuDjjd_wn-4",
        "colab": {
          "base_uri": "https://localhost:8080/"
        },
        "outputId": "6a94560d-8992-45e6-b6f3-ca9eb23271cd"
      },
      "source": [
        "print(df)"
      ],
      "execution_count": null,
      "outputs": [
        {
          "output_type": "stream",
          "text": [
            "                                 0      ...               21875\n",
            "gene                ENSDARG00000104632  ...  ENSDARG00000099551\n",
            "cd41_GFPlow.P3.A01                   0  ...                   0\n",
            "cd41_GFPlow.P3.A02                   0  ...                   0\n",
            "cd41_GFPlow.P3.A03                   0  ...                   0\n",
            "cd41_GFPlow.P3.A04                   0  ...                   0\n",
            "...                                ...  ...                 ...\n",
            "Runx123_GFP.P1.D07                   0  ...                   0\n",
            "Runx123_GFP.P1.D09                   0  ...                   0\n",
            "Runx123_GFP.P1.D10                   0  ...                   0\n",
            "Runx123_GFP.P1.D11                   0  ...                   0\n",
            "Runx123_GFP.P1.D12                   0  ...                   0\n",
            "\n",
            "[247 rows x 21876 columns]\n"
          ],
          "name": "stdout"
        }
      ]
    },
    {
      "cell_type": "code",
      "metadata": {
        "id": "8SumDPvOS_MW",
        "colab": {
          "base_uri": "https://localhost:8080/"
        },
        "outputId": "9941e4b8-a81e-4009-c133-5324e89e930f"
      },
      "source": [
        "df.shape"
      ],
      "execution_count": null,
      "outputs": [
        {
          "output_type": "execute_result",
          "data": {
            "text/plain": [
              "(247, 21876)"
            ]
          },
          "metadata": {
            "tags": []
          },
          "execution_count": 8
        }
      ]
    },
    {
      "cell_type": "code",
      "metadata": {
        "id": "ttF3uChHT1bg"
      },
      "source": [
        "co=[]"
      ],
      "execution_count": null,
      "outputs": []
    },
    {
      "cell_type": "code",
      "metadata": {
        "id": "9Qj4ZSKPOeva"
      },
      "source": [
        "for x in z:\n",
        "  c = x.split(\".\")\n",
        "  co.append(c[0])\n",
        "\n"
      ],
      "execution_count": null,
      "outputs": []
    },
    {
      "cell_type": "code",
      "metadata": {
        "id": "Gz_VboM2aQ5G"
      },
      "source": [
        "items=[]"
      ],
      "execution_count": null,
      "outputs": []
    },
    {
      "cell_type": "code",
      "metadata": {
        "id": "MulerrWQMa-J"
      },
      "source": [
        "for x in range (len(co)):\n",
        "  if(co[x] in items):\n",
        "    co[x]=items.index(co[x])\n",
        "  else:\n",
        "    items.append(co[x])\n",
        "    co[x]=items.index(co[x])\n",
        "\n",
        "\n",
        "  "
      ],
      "execution_count": null,
      "outputs": []
    },
    {
      "cell_type": "code",
      "metadata": {
        "id": "mKJ8CyypxBTL",
        "colab": {
          "base_uri": "https://localhost:8080/"
        },
        "outputId": "40788f2a-cc9f-40fc-bd81-e3f67042bc1a"
      },
      "source": [
        "print(items)"
      ],
      "execution_count": null,
      "outputs": [
        {
          "output_type": "stream",
          "text": [
            "['cd41_GFPlow', 'lck_GFP', 'lck_GFP_rag1', 'mpx_EGFP', 'rag2_GFP', 'Runx123_GFP']\n"
          ],
          "name": "stdout"
        }
      ]
    },
    {
      "cell_type": "code",
      "metadata": {
        "id": "szZUA963GwOL",
        "colab": {
          "base_uri": "https://localhost:8080/"
        },
        "outputId": "b0f0b0ef-279f-4306-a92a-1e9b3ed8a4c7"
      },
      "source": [
        "print(co)"
      ],
      "execution_count": null,
      "outputs": [
        {
          "output_type": "stream",
          "text": [
            "[0, 0, 0, 0, 0, 0, 0, 0, 0, 0, 0, 0, 0, 0, 0, 0, 0, 0, 0, 0, 0, 0, 0, 0, 0, 0, 0, 0, 0, 0, 0, 0, 0, 0, 0, 0, 0, 0, 0, 0, 0, 0, 0, 1, 1, 1, 1, 1, 1, 1, 1, 1, 1, 1, 1, 1, 1, 1, 1, 1, 1, 1, 1, 1, 1, 1, 1, 1, 1, 1, 1, 1, 1, 1, 1, 1, 1, 1, 1, 1, 1, 2, 2, 2, 2, 2, 2, 2, 2, 2, 2, 2, 2, 2, 2, 2, 2, 2, 2, 2, 2, 2, 2, 2, 2, 2, 2, 2, 2, 2, 2, 2, 3, 3, 3, 3, 3, 3, 3, 3, 3, 3, 3, 3, 3, 3, 3, 3, 3, 3, 3, 3, 3, 3, 3, 3, 3, 3, 3, 3, 3, 3, 3, 3, 3, 3, 3, 3, 3, 3, 3, 3, 3, 3, 3, 3, 3, 3, 3, 4, 4, 4, 4, 4, 4, 4, 4, 4, 4, 4, 4, 4, 4, 4, 4, 4, 4, 4, 4, 4, 4, 4, 4, 4, 4, 4, 4, 4, 4, 4, 4, 4, 4, 4, 4, 4, 4, 4, 4, 4, 4, 4, 4, 4, 4, 4, 4, 5, 5, 5, 5, 5, 5, 5, 5, 5, 5, 5, 5, 5, 5, 5, 5, 5, 5, 5, 5, 5, 5, 5, 5, 5, 5, 5, 5, 5, 5, 5, 5, 5, 5, 5, 5, 5, 5, 5]\n"
          ],
          "name": "stdout"
        }
      ]
    },
    {
      "cell_type": "code",
      "metadata": {
        "id": "4dCfvUSTJSxP"
      },
      "source": [
        "y=np.asarray(co)\n"
      ],
      "execution_count": null,
      "outputs": []
    },
    {
      "cell_type": "code",
      "metadata": {
        "id": "KPH9LOiabtGj",
        "colab": {
          "base_uri": "https://localhost:8080/"
        },
        "outputId": "9fd200be-2a2e-4c92-8095-da447e293424"
      },
      "source": [
        "x = np.asarray(df.iloc[1:,])\n",
        "x.shape\n"
      ],
      "execution_count": null,
      "outputs": [
        {
          "output_type": "execute_result",
          "data": {
            "text/plain": [
              "(246, 21876)"
            ]
          },
          "metadata": {
            "tags": []
          },
          "execution_count": 16
        }
      ]
    },
    {
      "cell_type": "code",
      "metadata": {
        "id": "GPVEybKjc2ZU",
        "colab": {
          "base_uri": "https://localhost:8080/"
        },
        "outputId": "d731c67d-5f85-4042-b4ce-75c1fea562c7"
      },
      "source": [
        "import keras\n",
        "from sklearn.utils.multiclass import type_of_target\n",
        "print(type_of_target(y))"
      ],
      "execution_count": null,
      "outputs": [
        {
          "output_type": "stream",
          "text": [
            "multiclass\n"
          ],
          "name": "stdout"
        }
      ]
    },
    {
      "cell_type": "code",
      "metadata": {
        "id": "V0MFU-MzdAQE"
      },
      "source": [
        "seed = 40\n",
        "np.random.seed(seed)\n",
        "\n",
        "kf = StratifiedKFold(n_splits=5, random_state=seed, shuffle=True)"
      ],
      "execution_count": null,
      "outputs": []
    },
    {
      "cell_type": "code",
      "metadata": {
        "id": "TmOAWv4pe4Vt",
        "colab": {
          "base_uri": "https://localhost:8080/",
          "height": 1000
        },
        "outputId": "d0c7de6f-f070-4938-f12a-cf6f021ced2b"
      },
      "source": [
        "#Random Forest\n",
        "\n",
        "clf = RandomForestClassifier()\n",
        "# acc_train = []\n",
        "# recall_train = []\n",
        "# pre_train = []\n",
        "# balance_train = []\n",
        "\n",
        "acc_test = []\n",
        "recall_test = []\n",
        "auROC_test = []\n",
        "pre_test = []\n",
        "balance_test = []\n",
        "mean_tpr = 0.0\n",
        "mean_fpr = np.linspace(0, 1, 100)\n",
        "all_tpr = []\n",
        "i = 0\n",
        "for train_index, test_index in kf.split(x,y):\n",
        "\n",
        "  x_train, x_test = x[train_index], x[test_index]\n",
        "  y_train, y_test = y[train_index], y[test_index]\n",
        "  \n",
        "  probas_ = clf.fit(x_train, y_train).predict_proba(x_test)\n",
        "\n",
        "  y_test_pred = clf.predict(x_test)\n",
        "\n",
        "  acc_test.append(accuracy_score(y_test, y_test_pred))\n",
        "  recall_test.append(recall_score(y_test, y_test_pred, average='macro'))\n",
        "  pre_test.append(precision_score(y_test, y_test_pred, average='micro'))\n",
        "  balance_test.append(balanced_accuracy_score(y_test, y_test_pred))\n",
        "  from sklearn.metrics import classification_report, confusion_matrix\n",
        "  print(confusion_matrix(y_test, y_test_pred))\n",
        "  print(classification_report(y_test, y_test_pred))\n",
        "  from sklearn.metrics import plot_confusion_matrix\n",
        "  plot_confusion_matrix(clf, x_test, y_test)  # doctest: +SKIP\n",
        "  plt.show()  # doctest: +SKIP\n",
        "\n",
        "print(\"Test:\")\n",
        "print(\"ACCURACY:{0:3.6}\".format(np.mean(acc_test)*100))\n",
        "print(\"RECALL: {0:3.6}\".format(np.mean(recall_test)*100))\n",
        "print(\"Precision: {0:3.6}\".format(np.mean(pre_test)*100))\n",
        "print(\"Balanced: {0:3.6}\".format(np.mean(balance_test)*100))\n",
        "# pl.plot([0, 1], [0, 1], '--', color=(0.6, 0.6, 0.6), label='Luck')\n",
        "# #figure(num=None, figsize=(8, 6), dpi=80, facecolor='w', edgecolor='k')\n",
        "# mean_tpr /= 5\n",
        "# mean_tpr[-1] = 1.0\n",
        "# mean_auc = auc(mean_fpr, mean_tpr)\n",
        "# pl.plot(mean_fpr, mean_tpr, 'k--',\n",
        "#         label='Mean ROC (area = %0.2f)' % mean_auc, lw=2)\n",
        "\n",
        "# pl.xlim([-0.05, 1.05])\n",
        "# pl.ylim([-0.05, 1.05])\n",
        "# pl.xlabel('False Positive Rate')\n",
        "# pl.ylabel('True Positive Rate')\n",
        "# pl.title('Receiver operating characteristic example')\n",
        "# pl.legend(loc=\"lower right\")\n",
        "# pl.show()"
      ],
      "execution_count": null,
      "outputs": [
        {
          "output_type": "stream",
          "text": [
            "[[8 0 0 1 0 0]\n",
            " [0 8 0 0 0 0]\n",
            " [0 0 6 0 0 0]\n",
            " [0 0 0 9 0 0]\n",
            " [0 1 0 0 8 1]\n",
            " [2 0 0 0 0 6]]\n",
            "              precision    recall  f1-score   support\n",
            "\n",
            "           0       0.80      0.89      0.84         9\n",
            "           1       0.89      1.00      0.94         8\n",
            "           2       1.00      1.00      1.00         6\n",
            "           3       0.90      1.00      0.95         9\n",
            "           4       1.00      0.80      0.89        10\n",
            "           5       0.86      0.75      0.80         8\n",
            "\n",
            "    accuracy                           0.90        50\n",
            "   macro avg       0.91      0.91      0.90        50\n",
            "weighted avg       0.91      0.90      0.90        50\n",
            "\n"
          ],
          "name": "stdout"
        },
        {
          "output_type": "display_data",
          "data": {
            "image/png": "[encoded data removed]",
            "text/plain": [
              "<Figure size 432x288 with 2 Axes>"
            ]
          },
          "metadata": {
            "tags": [],
            "needs_background": "light"
          }
        },
        {
          "output_type": "stream",
          "text": [
            "[[ 7  0  1  1  0  0]\n",
            " [ 0  7  0  0  0  0]\n",
            " [ 0  0  6  0  1  0]\n",
            " [ 0  0  0  9  0  0]\n",
            " [ 0  0  0  0 10  0]\n",
            " [ 2  0  0  0  0  5]]\n",
            "              precision    recall  f1-score   support\n",
            "\n",
            "           0       0.78      0.78      0.78         9\n",
            "           1       1.00      1.00      1.00         7\n",
            "           2       0.86      0.86      0.86         7\n",
            "           3       0.90      1.00      0.95         9\n",
            "           4       0.91      1.00      0.95        10\n",
            "           5       1.00      0.71      0.83         7\n",
            "\n",
            "    accuracy                           0.90        49\n",
            "   macro avg       0.91      0.89      0.89        49\n",
            "weighted avg       0.90      0.90      0.90        49\n",
            "\n"
          ],
          "name": "stdout"
        },
        {
          "output_type": "display_data",
          "data": {
            "image/png": "[encoded data removed]",
            "text/plain": [
              "<Figure size 432x288 with 2 Axes>"
            ]
          },
          "metadata": {
            "tags": [],
            "needs_background": "light"
          }
        },
        {
          "output_type": "stream",
          "text": [
            "[[ 8  0  0  1  0  0]\n",
            " [ 0  7  0  0  0  0]\n",
            " [ 0  1  5  0  0  0]\n",
            " [ 0  0  0 10  0  0]\n",
            " [ 1  0  0  0  8  0]\n",
            " [ 4  0  0  0  0  4]]\n",
            "              precision    recall  f1-score   support\n",
            "\n",
            "           0       0.62      0.89      0.73         9\n",
            "           1       0.88      1.00      0.93         7\n",
            "           2       1.00      0.83      0.91         6\n",
            "           3       0.91      1.00      0.95        10\n",
            "           4       1.00      0.89      0.94         9\n",
            "           5       1.00      0.50      0.67         8\n",
            "\n",
            "    accuracy                           0.86        49\n",
            "   macro avg       0.90      0.85      0.85        49\n",
            "weighted avg       0.89      0.86      0.85        49\n",
            "\n"
          ],
          "name": "stdout"
        },
        {
          "output_type": "display_data",
          "data": {
            "image/png": "[encoded data removed]",
            "text/plain": [
              "<Figure size 432x288 with 2 Axes>"
            ]
          },
          "metadata": {
            "tags": [],
            "needs_background": "light"
          }
        },
        {
          "output_type": "stream",
          "text": [
            "[[ 3  0  1  2  0  2]\n",
            " [ 0  7  0  0  1  0]\n",
            " [ 1  0  5  0  0  0]\n",
            " [ 0  0  0 10  0  0]\n",
            " [ 0  0  0  0  9  0]\n",
            " [ 0  0  0  0  0  8]]\n",
            "              precision    recall  f1-score   support\n",
            "\n",
            "           0       0.75      0.38      0.50         8\n",
            "           1       1.00      0.88      0.93         8\n",
            "           2       0.83      0.83      0.83         6\n",
            "           3       0.83      1.00      0.91        10\n",
            "           4       0.90      1.00      0.95         9\n",
            "           5       0.80      1.00      0.89         8\n",
            "\n",
            "    accuracy                           0.86        49\n",
            "   macro avg       0.85      0.85      0.84        49\n",
            "weighted avg       0.85      0.86      0.84        49\n",
            "\n"
          ],
          "name": "stdout"
        },
        {
          "output_type": "display_data",
          "data": {
            "image/png": "[encoded data removed]",
            "text/plain": [
              "<Figure size 432x288 with 2 Axes>"
            ]
          },
          "metadata": {
            "tags": [],
            "needs_background": "light"
          }
        },
        {
          "output_type": "stream",
          "text": [
            "[[5 1 0 0 1 1]\n",
            " [1 7 0 0 0 0]\n",
            " [0 0 5 0 1 0]\n",
            " [0 0 0 9 0 0]\n",
            " [0 1 0 0 9 0]\n",
            " [1 1 0 0 0 6]]\n",
            "              precision    recall  f1-score   support\n",
            "\n",
            "           0       0.71      0.62      0.67         8\n",
            "           1       0.70      0.88      0.78         8\n",
            "           2       1.00      0.83      0.91         6\n",
            "           3       1.00      1.00      1.00         9\n",
            "           4       0.82      0.90      0.86        10\n",
            "           5       0.86      0.75      0.80         8\n",
            "\n",
            "    accuracy                           0.84        49\n",
            "   macro avg       0.85      0.83      0.84        49\n",
            "weighted avg       0.84      0.84      0.84        49\n",
            "\n"
          ],
          "name": "stdout"
        },
        {
          "output_type": "display_data",
          "data": {
            "image/png": "[encoded data removed]",
            "text/plain": [
              "<Figure size 432x288 with 2 Axes>"
            ]
          },
          "metadata": {
            "tags": [],
            "needs_background": "light"
          }
        },
        {
          "output_type": "stream",
          "text": [
            "Test:\n",
            "ACCURACY:86.9796\n",
            "RECALL: 86.5529\n",
            "Precision: 86.9796\n",
            "Balanced: 86.5529\n"
          ],
          "name": "stdout"
        }
      ]
    },
    {
      "cell_type": "code",
      "metadata": {
        "id": "_0Nrve-GfQdp"
      },
      "source": [
        ""
      ],
      "execution_count": null,
      "outputs": []
    },
    {
      "cell_type": "code",
      "metadata": {
        "id": "VRD3e90uE-fM",
        "colab": {
          "base_uri": "https://localhost:8080/",
          "height": 106
        },
        "outputId": "951fdb3b-c8af-480b-a781-add7e97368dd"
      },
      "source": [
        "#Adaboost \n",
        "\n",
        "clf = AdaBoostClassifier()\n",
        "# acc_train = []\n",
        "# recall_train = []\n",
        "# pre_train = []\n",
        "# balance_train = []\n",
        "\n",
        "acc_test = []\n",
        "recall_test = []\n",
        "auROC_test = []\n",
        "pre_test = []\n",
        "balance_test = []\n",
        "mean_tpr = 0.0\n",
        "mean_fpr = np.linspace(0, 1, 100)\n",
        "all_tpr = []\n",
        "i = 0\n",
        "for train_index, test_index in kf.split(x,y):\n",
        "\n",
        "  x_train, x_test = x[train_index], x[test_index]\n",
        "  y_train, y_test = y[train_index], y[test_index]\n",
        "  \n",
        "  probas_ = clf.fit(x_train, y_train).predict_proba(x_test)\n",
        "  # fpr, tpr, thresholds = roc_curve(y_test, probas_[:, 1])\n",
        "  # mean_tpr += np.interp(mean_fpr, fpr, tpr)\n",
        "  # mean_tpr[0] = 0.0\n",
        "  # roc_auc = auc(fpr, tpr)\n",
        "  # pl.plot(fpr, tpr, lw=1, label='ROC fold %d (area = %0.2f)' % (i, roc_auc))\n",
        "  # i = i + 1\n",
        "\n",
        "  y_test_pred = clf.predict(x_test)\n",
        "\n",
        "  acc_test.append(accuracy_score(y_test, y_test_pred))\n",
        "  recall_test.append(recall_score(y_test, y_test_pred, average='macro'))\n",
        "  pre_test.append(precision_score(y_test, y_test_pred, average='micro'))\n",
        "  balance_test.append(balanced_accuracy_score(y_test, y_test_pred))\n",
        "\n",
        "  # y_train_pred = clf.predict(x_train)\n",
        "\n",
        "  # acc_train.append(accuracy_score(y_train, y_train_pred))\n",
        "  # recall_train.append(recall_score(y_train, y_train_pred))\n",
        "  # pre_train.append(precision_score(y_train, y_train_pred))\n",
        "  # balance_train.append(balanced_accuracy_score(y_train, y_train_pred))\n",
        "\n",
        "\n",
        "\n",
        "# print(\"train:\")\n",
        "# print(\"ACCURACY:{0:3.6}\".format(np.mean(acc_train)*100))\n",
        "# print(\"RECALL: {0:3.6}\".format(np.mean(recall_train)*100))\n",
        "# print(\"Precision: {0:3.6}\".format(np.mean(pre_train)*100))\n",
        "# print(\"Balanced: {0:3.6}\".format(np.mean(balance_train)*100))\n",
        "\n",
        "print(\"Test:\")\n",
        "print(\"ACCURACY:{0:3.6}\".format(np.mean(acc_test)*100))\n",
        "print(\"RECALL: {0:3.6}\".format(np.mean(recall_test)*100))\n",
        "print(\"Precision: {0:3.6}\".format(np.mean(pre_test)*100))\n",
        "print(\"Balanced: {0:3.6}\".format(np.mean(balance_test)*100))\n",
        "\n",
        "# pl.plot([0, 1], [0, 1], '--', color=(0.6, 0.6, 0.6), label='Luck')\n",
        "# #figure(num=None, figsize=(8, 6), dpi=80, facecolor='w', edgecolor='k')\n",
        "# mean_tpr /= 5\n",
        "# mean_tpr[-1] = 1.0\n",
        "# mean_auc = auc(mean_fpr, mean_tpr)\n",
        "# pl.plot(mean_fpr, mean_tpr, 'k--',\n",
        "#         label='Mean ROC (area = %0.2f)' % mean_auc, lw=2)\n",
        "\n",
        "# pl.xlim([-0.05, 1.05])\n",
        "# pl.ylim([-0.05, 1.05])\n",
        "# pl.xlabel('False Positive Rate')\n",
        "# pl.ylabel('True Positive Rate')\n",
        "# pl.title('Receiver operating characteristic example')\n",
        "# pl.legend(loc=\"lower right\")\n",
        "# pl.show()"
      ],
      "execution_count": null,
      "outputs": [
        {
          "output_type": "stream",
          "text": [
            "Test:\n",
            "ACCURACY:64.2612\n",
            "RECALL: 62.9061\n",
            "Precision: 64.2612\n",
            "Balanced: 62.9061\n"
          ],
          "name": "stdout"
        }
      ]
    },
    {
      "cell_type": "code",
      "metadata": {
        "id": "ndpYfFBtgK_z",
        "colab": {
          "base_uri": "https://localhost:8080/",
          "height": 106
        },
        "outputId": "63fc69f4-02e1-4c97-fde6-423dd5194bcc"
      },
      "source": [
        "#SVC\n",
        "\n",
        "clf = SVC()\n",
        "# acc_train = []\n",
        "# recall_train = []\n",
        "# pre_train = []\n",
        "# balance_train = []\n",
        "\n",
        "acc_test = []\n",
        "recall_test = []\n",
        "auROC_test = []\n",
        "pre_test = []\n",
        "balance_test = []\n",
        "mean_tpr = 0.0\n",
        "mean_fpr = np.linspace(0, 1, 100)\n",
        "all_tpr = []\n",
        "i = 0\n",
        "for train_index, test_index in kf.split(x,y):\n",
        "\n",
        "  x_train, x_test = x[train_index], x[test_index]\n",
        "  y_train, y_test = y[train_index], y[test_index]\n",
        "  \n",
        "  clf.fit(x_train, y_train)\n",
        "  # fpr, tpr, thresholds = roc_curve(y_test, probas_[:, 1])\n",
        "  # mean_tpr += np.interp(mean_fpr, fpr, tpr)\n",
        "  # mean_tpr[0] = 0.0\n",
        "  # roc_auc = auc(fpr, tpr)\n",
        "  # pl.plot(fpr, tpr, lw=1, label='ROC fold %d (area = %0.2f)' % (i, roc_auc))\n",
        "  # i = i + 1\n",
        "\n",
        "  y_test_pred = clf.predict(x_test)\n",
        "\n",
        "  acc_test.append(accuracy_score(y_test, y_test_pred))\n",
        "  recall_test.append(recall_score(y_test, y_test_pred, average='macro'))\n",
        "  pre_test.append(precision_score(y_test, y_test_pred, average='micro'))\n",
        "  balance_test.append(balanced_accuracy_score(y_test, y_test_pred))\n",
        "\n",
        "  # y_train_pred = clf.predict(x_train)\n",
        "\n",
        "  # acc_train.append(accuracy_score(y_train, y_train_pred))\n",
        "  # recall_train.append(recall_score(y_train, y_train_pred))\n",
        "  # pre_train.append(precision_score(y_train, y_train_pred))\n",
        "  # balance_train.append(balanced_accuracy_score(y_train, y_train_pred))\n",
        "\n",
        "\n",
        "\n",
        "# print(\"train:\")\n",
        "# print(\"ACCURACY:{0:3.6}\".format(np.mean(acc_train)*100))\n",
        "# print(\"RECALL: {0:3.6}\".format(np.mean(recall_train)*100))\n",
        "# print(\"Precision: {0:3.6}\".format(np.mean(pre_train)*100))\n",
        "# print(\"Balanced: {0:3.6}\".format(np.mean(balance_train)*100))\n",
        "\n",
        "print(\"Test:\")\n",
        "print(\"ACCURACY:{0:3.6}\".format(np.mean(acc_test)*100))\n",
        "print(\"RECALL: {0:3.6}\".format(np.mean(recall_test)*100))\n",
        "print(\"Precision: {0:3.6}\".format(np.mean(pre_test)*100))\n",
        "print(\"Balanced: {0:3.6}\".format(np.mean(balance_test)*100))\n",
        "\n",
        "# pl.plot([0, 1], [0, 1], '--', color=(0.6, 0.6, 0.6), label='Luck')\n",
        "# #figure(num=None, figsize=(8, 6), dpi=80, facecolor='w', edgecolor='k')\n",
        "# mean_tpr /= 5\n",
        "# mean_tpr[-1] = 1.0\n",
        "# mean_auc = auc(mean_fpr, mean_tpr)\n",
        "# pl.plot(mean_fpr, mean_tpr, 'k--',\n",
        "#         label='Mean ROC (area = %0.2f)' % mean_auc, lw=2)\n",
        "\n",
        "# pl.xlim([-0.05, 1.05])\n",
        "# pl.ylim([-0.05, 1.05])\n",
        "# pl.xlabel('False Positive Rate')\n",
        "# pl.ylabel('True Positive Rate')\n",
        "# pl.title('Receiver operating characteristic example')\n",
        "# pl.legend(loc=\"lower right\")\n",
        "# pl.show()"
      ],
      "execution_count": null,
      "outputs": [
        {
          "output_type": "stream",
          "text": [
            "Test:\n",
            "ACCURACY:73.9918\n",
            "RECALL: 72.295\n",
            "Precision: 73.9918\n",
            "Balanced: 72.295\n"
          ],
          "name": "stdout"
        }
      ]
    }
  ]
}